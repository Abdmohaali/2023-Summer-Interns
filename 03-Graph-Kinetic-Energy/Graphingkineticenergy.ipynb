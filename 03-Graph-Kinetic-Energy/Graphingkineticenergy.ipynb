{
 "cells": [
  {
   "cell_type": "markdown",
   "id": "d346bc37-aaf7-4120-a3b5-e1adb4dc6862",
   "metadata": {},
   "source": [
    "# Graphing Kinetic Energy"
   ]
  },
  {
   "cell_type": "markdown",
   "id": "3405414d-2e8b-4852-ac1d-60a6ed903158",
   "metadata": {},
   "source": [
    "Using the data calculated from Kinetic-Energy, create a plot which uses a dataframe to plot the data. While getting the data into a dataframe is more complex than a series of lists, this complexity pays off with an ease of printing and plotting the dataframes."
   ]
  },
  {
   "cell_type": "markdown",
   "id": "7a85e88c-1611-4094-ab30-949977e573a3",
   "metadata": {},
   "source": [
    "## Algorithm"
   ]
  },
  {
   "cell_type": "markdown",
   "id": "e15be416-88aa-4329-a62c-ba153951b253",
   "metadata": {},
   "source": [
    "1. Transfer the conversions from the kinetic energy practice in the 01 folder to this notebook\n",
    "2. Set up table\n",
    "3. Fill out table with data"
   ]
  },
  {
   "cell_type": "code",
   "execution_count": 1,
   "id": "4ff4bfd1-83dd-4e19-afd5-ba1871553755",
   "metadata": {},
   "outputs": [],
   "source": [
    "mass_of_Kia = 4502 * .4536\n",
    "mass_of_Ford = 6015 * .4536\n",
    "mass_of_Fiat = 3305 * .4536\n",
    "mass_of_Dodge = 4073 * .4536\n",
    "\n",
    "school_zone = 15 * .4470\n",
    "town_road = 45 * .4470\n",
    "highway = 65 * .4470"
   ]
  },
  {
   "cell_type": "code",
   "execution_count": 2,
   "id": "e14437ad-7457-4187-98db-3283e8c11665",
   "metadata": {},
   "outputs": [],
   "source": [
    "table = {\n",
    "   \"Speeds\": [\"School\", \"Town\", \"Highway\"],\n",
    "   \"Kia\": [],\n",
    "   \"Ford\": [],\n",
    "   \"Fiat\": [],\n",
    "   \"Dodge\": []\n",
    "}"
   ]
  },
  {
   "cell_type": "code",
   "execution_count": 3,
   "id": "20967d3e-9bfd-4e21-bfed-cbad4b106f19",
   "metadata": {},
   "outputs": [
    {
     "ename": "TypeError",
     "evalue": "can't multiply sequence by non-int of type 'float'",
     "output_type": "error",
     "traceback": [
      "\u001b[1;31m---------------------------------------------------------------------------\u001b[0m",
      "\u001b[1;31mTypeError\u001b[0m                                 Traceback (most recent call last)",
      "Cell \u001b[1;32mIn[3], line 8\u001b[0m\n\u001b[0;32m      5\u001b[0m \u001b[38;5;28;01mfor\u001b[39;00m i \u001b[38;5;129;01min\u001b[39;00m cars:\n\u001b[0;32m      6\u001b[0m     \u001b[38;5;28;01mfor\u001b[39;00m j \u001b[38;5;129;01min\u001b[39;00m mass:\n\u001b[1;32m----> 8\u001b[0m         table [w][i] \u001b[38;5;241m=\u001b[39m \u001b[38;5;241;43m0.5\u001b[39;49m\u001b[38;5;241;43m*\u001b[39;49m\u001b[43m[\u001b[49m\u001b[43mj\u001b[49m\u001b[43m]\u001b[49m\u001b[38;5;241m*\u001b[39mspeeds\u001b[38;5;241m*\u001b[39m\u001b[38;5;241m*\u001b[39m\u001b[38;5;241m2\u001b[39m\n",
      "\u001b[1;31mTypeError\u001b[0m: can't multiply sequence by non-int of type 'float'"
     ]
    }
   ],
   "source": [
    "mass = [mass_of_Kia, mass_of_Ford, mass_of_Fiat, mass_of_Dodge]\n",
    "cars = [\"Kia\",\"Ford\",\"Fiat\",\"Dodge\"]\n",
    "speeds = [school_zone, town_road, highway]\n",
    "for w in speeds:\n",
    "    for i in cars:\n",
    "        for j in mass:\n",
    "\n",
    "            table [w][i] = 0.5*[j]*speeds**2"
   ]
  },
  {
   "cell_type": "code",
   "execution_count": null,
   "id": "35c3d76b-518f-471e-a661-9a5185833545",
   "metadata": {},
   "outputs": [],
   "source": [
    "import pandas as pd\n",
    "import plotly.express as px\n",
    "\n",
    "df = pd.DataFrame(table)\n",
    "pd.set_option('float_format', '{:,.2f}'.format)\n",
    "display(df)\n",
    "fig = px.line(df, x=\"Speeds\", y=[\"Kia\", \"Ford\", \"Fiat\", \"Dodge\"], title= 'Kinetic Energy Graph'\n",
    "             )\n",
    "fig.show()"
   ]
  },
  {
   "cell_type": "code",
   "execution_count": null,
   "id": "7e3112d3-0b3b-4675-b61a-a0aa4f4e3fe0",
   "metadata": {},
   "outputs": [],
   "source": []
  }
 ],
 "metadata": {
  "kernelspec": {
   "display_name": "Python 3 (ipykernel)",
   "language": "python",
   "name": "python3"
  },
  "language_info": {
   "codemirror_mode": {
    "name": "ipython",
    "version": 3
   },
   "file_extension": ".py",
   "mimetype": "text/x-python",
   "name": "python",
   "nbconvert_exporter": "python",
   "pygments_lexer": "ipython3",
   "version": "3.8.16"
  }
 },
 "nbformat": 4,
 "nbformat_minor": 5
}

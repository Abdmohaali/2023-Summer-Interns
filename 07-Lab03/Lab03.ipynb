{
 "cells": [
  {
   "cell_type": "markdown",
   "id": "77a09598-a5bf-4a95-8bd3-5e8e3b1f4ff0",
   "metadata": {},
   "source": [
    "# Accelerated Motion in 1-Dimension"
   ]
  },
  {
   "cell_type": "markdown",
   "id": "0bbe2ea3-2df7-4d2a-b9ed-1106a2fc423c",
   "metadata": {},
   "source": [
    "In this experiment we shall analyze motion in 1-dimension. We will consider a body accelerating at a nearly constant rate down a nearly frictionless slope to test a hypothesis originally proposed by Galileo."
   ]
  },
  {
   "cell_type": "markdown",
   "id": "f2eef350-b0ec-4921-bac3-53601ee97a52",
   "metadata": {},
   "source": [
    "## Algorithm"
   ]
  },
  {
   "cell_type": "markdown",
   "id": "ee62b7da-8e4b-4e94-9945-916e72331732",
   "metadata": {},
   "source": [
    "1. Obtain a value for the acceleration of gravity in the lab.\n",
    "\n",
    "2. The air track is lifted under one leg by a certain height h. The distance between the legs on the air track is exactly 100.0 cm. Based on this info, calculate the angles of inclination of the air track. Sin(O) = h/100. A small calculation error will make a difference in the accuracy of the results.\n",
    "\n",
    "3. execute prompt 4\n",
    "\n",
    "4. do what is asked of you in propmt 5 (a - e) and then answer question 6\n",
    "\n",
    "5. Answer all of page 4 of the pdf"
   ]
  },
  {
   "cell_type": "markdown",
   "id": "3b85fe0d-90f0-403d-9ca4-309564fe3bc3",
   "metadata": {},
   "source": [
    "## Program"
   ]
  },
  {
   "cell_type": "code",
   "execution_count": 1,
   "id": "74347397-b70c-4c62-90b8-fa055fd76ff3",
   "metadata": {},
   "outputs": [
    {
     "data": {
      "text/html": [
       "<div>\n",
       "<style scoped>\n",
       "    .dataframe tbody tr th:only-of-type {\n",
       "        vertical-align: middle;\n",
       "    }\n",
       "\n",
       "    .dataframe tbody tr th {\n",
       "        vertical-align: top;\n",
       "    }\n",
       "\n",
       "    .dataframe thead th {\n",
       "        text-align: right;\n",
       "    }\n",
       "</style>\n",
       "<table border=\"1\" class=\"dataframe\">\n",
       "  <thead>\n",
       "    <tr style=\"text-align: right;\">\n",
       "      <th></th>\n",
       "      <th>t (s)</th>\n",
       "      <th>x (m)</th>\n",
       "      <th>y (m)</th>\n",
       "      <th>v_{x} (m/s)</th>\n",
       "    </tr>\n",
       "  </thead>\n",
       "  <tbody>\n",
       "    <tr>\n",
       "      <th>0</th>\n",
       "      <td>0.0000</td>\n",
       "      <td>1.86</td>\n",
       "      <td>0.0434</td>\n",
       "      <td>NaN</td>\n",
       "    </tr>\n",
       "    <tr>\n",
       "      <th>1</th>\n",
       "      <td>0.0500</td>\n",
       "      <td>1.86</td>\n",
       "      <td>0.0434</td>\n",
       "      <td>-0.0664</td>\n",
       "    </tr>\n",
       "    <tr>\n",
       "      <th>2</th>\n",
       "      <td>0.0833</td>\n",
       "      <td>1.86</td>\n",
       "      <td>0.0434</td>\n",
       "      <td>-0.1860</td>\n",
       "    </tr>\n",
       "    <tr>\n",
       "      <th>3</th>\n",
       "      <td>0.1170</td>\n",
       "      <td>1.85</td>\n",
       "      <td>0.0433</td>\n",
       "      <td>-0.3010</td>\n",
       "    </tr>\n",
       "    <tr>\n",
       "      <th>4</th>\n",
       "      <td>0.1500</td>\n",
       "      <td>1.84</td>\n",
       "      <td>0.0434</td>\n",
       "      <td>-0.4420</td>\n",
       "    </tr>\n",
       "    <tr>\n",
       "      <th>...</th>\n",
       "      <td>...</td>\n",
       "      <td>...</td>\n",
       "      <td>...</td>\n",
       "      <td>...</td>\n",
       "    </tr>\n",
       "    <tr>\n",
       "      <th>142</th>\n",
       "      <td>4.7500</td>\n",
       "      <td>1.75</td>\n",
       "      <td>0.0437</td>\n",
       "      <td>-0.6060</td>\n",
       "    </tr>\n",
       "    <tr>\n",
       "      <th>143</th>\n",
       "      <td>4.7800</td>\n",
       "      <td>1.73</td>\n",
       "      <td>0.0437</td>\n",
       "      <td>-0.5910</td>\n",
       "    </tr>\n",
       "    <tr>\n",
       "      <th>144</th>\n",
       "      <td>4.8200</td>\n",
       "      <td>1.71</td>\n",
       "      <td>0.0439</td>\n",
       "      <td>-0.5690</td>\n",
       "    </tr>\n",
       "    <tr>\n",
       "      <th>145</th>\n",
       "      <td>4.8500</td>\n",
       "      <td>1.69</td>\n",
       "      <td>0.0434</td>\n",
       "      <td>-0.5500</td>\n",
       "    </tr>\n",
       "    <tr>\n",
       "      <th>146</th>\n",
       "      <td>4.8800</td>\n",
       "      <td>1.68</td>\n",
       "      <td>0.0431</td>\n",
       "      <td>NaN</td>\n",
       "    </tr>\n",
       "  </tbody>\n",
       "</table>\n",
       "<p>147 rows × 4 columns</p>\n",
       "</div>"
      ],
      "text/plain": [
       "      t (s)  x (m)   y (m)  v_{x} (m/s)\n",
       "0    0.0000   1.86  0.0434          NaN\n",
       "1    0.0500   1.86  0.0434      -0.0664\n",
       "2    0.0833   1.86  0.0434      -0.1860\n",
       "3    0.1170   1.85  0.0433      -0.3010\n",
       "4    0.1500   1.84  0.0434      -0.4420\n",
       "..      ...    ...     ...          ...\n",
       "142  4.7500   1.75  0.0437      -0.6060\n",
       "143  4.7800   1.73  0.0437      -0.5910\n",
       "144  4.8200   1.71  0.0439      -0.5690\n",
       "145  4.8500   1.69  0.0434      -0.5500\n",
       "146  4.8800   1.68  0.0431          NaN\n",
       "\n",
       "[147 rows x 4 columns]"
      ]
     },
     "metadata": {},
     "output_type": "display_data"
    }
   ],
   "source": [
    "import pandas as pd\n",
    "import plotly.express as px\n",
    "df = pd.read_csv(\"Accelerated Motion DATA - run 10.csv\", header=1)\n",
    "display(df)"
   ]
  },
  {
   "cell_type": "markdown",
   "id": "5eaa20b9-4cd0-4ae9-a252-45428057b771",
   "metadata": {},
   "source": [
    "**1.** Obtain a value for the acceleration of gravity in the lab."
   ]
  },
  {
   "cell_type": "code",
   "execution_count": 5,
   "id": "05257117-7e73-4ecb-9466-86cd9a7a7aba",
   "metadata": {},
   "outputs": [
    {
     "name": "stdout",
     "output_type": "stream",
     "text": [
      "980.0 cm/s^2\n"
     ]
    }
   ],
   "source": [
    "g = 980.0\n",
    "print(f\"{g} cm/s^2\")"
   ]
  },
  {
   "cell_type": "markdown",
   "id": "e041c059-e67b-4a9d-9f3c-dff4a70d347a",
   "metadata": {},
   "source": [
    "**2.** The air track is lifted under one leg by a certain height h. The distance between the legs on the air track is exactly 100.0 cm. Based on this info, calculate the angles of inclination of the air track. Sin(O) = h/100. A small calculation error will make a difference in the accuracy of the results."
   ]
  },
  {
   "cell_type": "code",
   "execution_count": null,
   "id": "51c6700b-0971-426f-90eb-82d4af26766c",
   "metadata": {},
   "outputs": [],
   "source": [
    "table = {\n",
    "  \"Run Number\" : [\"02\", \"04\", \"08\", \"10\"],\n",
    "  \"Height h, (cm)\": [],\n",
    "  \"Angle (O)\": []\n",
    "}"
   ]
  }
 ],
 "metadata": {
  "kernelspec": {
   "display_name": "Python 3 (ipykernel)",
   "language": "python",
   "name": "python3"
  },
  "language_info": {
   "codemirror_mode": {
    "name": "ipython",
    "version": 3
   },
   "file_extension": ".py",
   "mimetype": "text/x-python",
   "name": "python",
   "nbconvert_exporter": "python",
   "pygments_lexer": "ipython3",
   "version": "3.8.16"
  }
 },
 "nbformat": 4,
 "nbformat_minor": 5
}

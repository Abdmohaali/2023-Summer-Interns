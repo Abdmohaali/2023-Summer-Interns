{
 "cells": [
  {
   "cell_type": "code",
   "execution_count": 3,
   "id": "1701a9e2-c413-472a-98a2-15a0e5665523",
   "metadata": {},
   "outputs": [
    {
     "name": "stdin",
     "output_type": "stream",
     "text": [
      "Enter a list of values seperated by a ',' 1,25,4,81,22,61\n"
     ]
    },
    {
     "data": {
      "text/plain": [
       "'You entered [1, 25, 4, 81, 22, 61]'"
      ]
     },
     "execution_count": 3,
     "metadata": {},
     "output_type": "execute_result"
    }
   ],
   "source": [
    "numbers = []\n",
    "values = input(\"Enter a list of values seperated by a ','\")\n",
    "for value in values.split(','):\n",
    "    numbers.append(int(value))\n",
    "f\"You entered {numbers}\""
   ]
  },
  {
   "cell_type": "code",
   "execution_count": 4,
   "id": "a1895673-c19e-4bef-91ea-e0f500784939",
   "metadata": {},
   "outputs": [
    {
     "data": {
      "text/plain": [
       "'the number of values are 6'"
      ]
     },
     "execution_count": 4,
     "metadata": {},
     "output_type": "execute_result"
    }
   ],
   "source": [
    "num = len(numbers)\n",
    "f\"the number of values are {num}\""
   ]
  },
  {
   "cell_type": "code",
   "execution_count": 6,
   "id": "c8db4f72-6521-47f9-afd0-b9bc401e49b8",
   "metadata": {},
   "outputs": [
    {
     "data": {
      "text/plain": [
       "'The mean of the values are 32.333333333333336'"
      ]
     },
     "execution_count": 6,
     "metadata": {},
     "output_type": "execute_result"
    }
   ],
   "source": [
    "sum = 0\n",
    "for number in numbers:\n",
    "    sum += number\n",
    "f\"The totals for the values are {sum}\"\n",
    "mean = sum / num\n",
    "f\"The mean of the values are {mean}\""
   ]
  },
  {
   "cell_type": "code",
   "execution_count": 7,
   "id": "8ed0705d-42f8-4f01-abbe-c5a212604e77",
   "metadata": {},
   "outputs": [
    {
     "data": {
      "text/plain": [
       "'The standard deviation is 32.04788084517706'"
      ]
     },
     "execution_count": 7,
     "metadata": {},
     "output_type": "execute_result"
    }
   ],
   "source": [
    "import statistics\n",
    "sd = statistics.stdev(numbers)\n",
    "f\"The standard deviation is {sd}\""
   ]
  },
  {
   "cell_type": "code",
   "execution_count": 9,
   "id": "0d85391d-048c-4674-b270-85864db47215",
   "metadata": {},
   "outputs": [
    {
     "name": "stdout",
     "output_type": "stream",
     "text": [
      "For the following values [1, 25, 4, 81, 22, 61]\n",
      "the number of values are 6\n",
      "the mean of the values are 32.333333333333336\n",
      "the standard deviation is 32.04788084517706\n"
     ]
    }
   ],
   "source": [
    "print(f\"For the following values {numbers}\")\n",
    "print(f\"the number of values are {num}\")\n",
    "print(f\"the mean of the values are {mean}\")\n",
    "print(f\"the standard deviation is {sd}\")"
   ]
  },
  {
   "cell_type": "code",
   "execution_count": null,
   "id": "9b826d20-bb07-43dd-bd0f-eec76ef03b13",
   "metadata": {},
   "outputs": [],
   "source": []
  }
 ],
 "metadata": {
  "kernelspec": {
   "display_name": "Python 3 (ipykernel)",
   "language": "python",
   "name": "python3"
  },
  "language_info": {
   "codemirror_mode": {
    "name": "ipython",
    "version": 3
   },
   "file_extension": ".py",
   "mimetype": "text/x-python",
   "name": "python",
   "nbconvert_exporter": "python",
   "pygments_lexer": "ipython3",
   "version": "3.8.16"
  }
 },
 "nbformat": 4,
 "nbformat_minor": 5
}

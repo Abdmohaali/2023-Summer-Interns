{
 "cells": [
  {
   "cell_type": "markdown",
   "id": "d9e9881d-25e5-4095-a8a0-732e03448158",
   "metadata": {},
   "source": [
    "# Lab01 - Calculate Using JupyterLab"
   ]
  },
  {
   "cell_type": "markdown",
   "id": "a4ded30c-ab41-4dcb-a2fc-6cadf49120f1",
   "metadata": {},
   "source": [
    "This assignment will follow the initial lab in Physics. We are going to follow most of the exercises, however, we are going to use JupyterLab to complete the assignment. This is a very important assignment as it will indicate how much you have learned as to using *JupyterLab*, *Python*, *Markdown* and the various functionality of Python such as *plotly*."
   ]
  },
  {
   "cell_type": "markdown",
   "id": "83076f5c-0c0a-4cfc-aaea-d2804cce390b",
   "metadata": {},
   "source": [
    "## Algorithm"
   ]
  },
  {
   "cell_type": "markdown",
   "id": "44d9aa9a-b415-4abd-971b-1b586a288d98",
   "metadata": {},
   "source": [
    "1. For example in steps 1-7, simply execute a print statement showing how to perform the desired operations. Ignore step 8 Graphing.\n",
    "\n",
    "2. In **Procedure**, ignore the steps 1. and 2. and begin on 3., create a *Python* list for the table of **income of doctors**. Follow the instructions as well on 3. (a-c).\n",
    "\n",
    "3. Follow steps 4 and 5, using your *Markdown* skills to answer the questions posed in the text.\n",
    "\n",
    "4. Read the section **Fundamental Quantities and Significant Figures** then solve the problems in the **Procedure** again, combining both a Markdown cell to show the problem and a code cell for the solution."
   ]
  },
  {
   "cell_type": "markdown",
   "id": "16620af1-326a-4880-b5ae-80906348527b",
   "metadata": {},
   "source": [
    "## Program"
   ]
  },
  {
   "cell_type": "markdown",
   "id": "581a3f58-f172-4ad4-9a3f-fca71e097fe4",
   "metadata": {},
   "source": [
    "**1.** For example in steps 1-7, simply execute a print statement showing how to perform the desired operations. Ignore step 8 Graphing."
   ]
  },
  {
   "cell_type": "code",
   "execution_count": null,
   "id": "bdbf8303-eda9-45e2-a3a6-873bdfe1105e",
   "metadata": {},
   "outputs": [],
   "source": [
    "Addition = \"+\"\n",
    "Subtraction = \"-\"\n",
    "Division = \"/\"\n",
    "Multiplication = \""
   ]
  }
 ],
 "metadata": {
  "kernelspec": {
   "display_name": "Python 3 (ipykernel)",
   "language": "python",
   "name": "python3"
  },
  "language_info": {
   "codemirror_mode": {
    "name": "ipython",
    "version": 3
   },
   "file_extension": ".py",
   "mimetype": "text/x-python",
   "name": "python",
   "nbconvert_exporter": "python",
   "pygments_lexer": "ipython3",
   "version": "3.8.16"
  }
 },
 "nbformat": 4,
 "nbformat_minor": 5
}

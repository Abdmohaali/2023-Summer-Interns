{
 "cells": [
  {
   "cell_type": "code",
   "execution_count": 1,
   "id": "fb69add9-eef0-48ee-9b70-61f77c92aa9b",
   "metadata": {},
   "outputs": [
    {
     "name": "stdout",
     "output_type": "stream",
     "text": [
      "The mass of a Kia EV6 is 2042.1072 kg\n",
      "The mass of a Ford F-150 Lightning is 2728.404 kg\n",
      "The mass of a Fiat 500 Pop X AWD is 1499.148 kg\n",
      "The mass of a Dodge Charger GT RWD is 1847.5128 kg\n"
     ]
    }
   ],
   "source": [
    "mass_of_Kia = 4502 * .4536\n",
    "mass_of_Ford = 6015 * .4536\n",
    "mass_of_Fiat = 3305 * .4536\n",
    "mass_of_Dodge = 4073 * .4536\n",
    "\n",
    "print(f\"The mass of a Kia EV6 is {mass_of_Kia} kg\")\n",
    "print(f\"The mass of a Ford F-150 Lightning is {mass_of_Ford} kg\")\n",
    "print(f\"The mass of a Fiat 500 Pop X AWD is {mass_of_Fiat} kg\")\n",
    "print(f\"The mass of a Dodge Charger GT RWD is {mass_of_Dodge} kg\")"
   ]
  },
  {
   "cell_type": "markdown",
   "id": "600c6e3d-cf2c-418d-8f2f-bee4b2d05d0d",
   "metadata": {},
   "source": [
    "### The mass of each vehicle has been deduced and shown"
   ]
  },
  {
   "cell_type": "markdown",
   "id": "82f91944-c63f-43e6-890f-97dc24d047b1",
   "metadata": {},
   "source": [
    "#### Now we are going to convert the different speeds from miles per hour to meters per second"
   ]
  },
  {
   "cell_type": "code",
   "execution_count": 2,
   "id": "8cd7e9da-02e2-42c5-a2fb-4d37b38d4c61",
   "metadata": {},
   "outputs": [
    {
     "name": "stdout",
     "output_type": "stream",
     "text": [
      "The velocity of a school zone is 6.705 m/s\n",
      "The velocity of a town road is 20.115000000000002 m/s\n",
      "The velocity of a highway is 29.055 m/s\n"
     ]
    }
   ],
   "source": [
    "school_zone = 15 * .4470\n",
    "town_road = 45 * .4470\n",
    "highway = 65 * .4470\n",
    "\n",
    "print(f\"The velocity of a school zone is {school_zone} m/s\")\n",
    "print(f\"The velocity of a town road is {town_road} m/s\")\n",
    "print(f\"The velocity of a highway is {highway} m/s\")"
   ]
  },
  {
   "cell_type": "markdown",
   "id": "1ec86a25-2ee4-4eea-901e-3363057ad835",
   "metadata": {},
   "source": [
    "#### Since we have all the information we need for finding kinetic energy, we now need to use the velocities of the different roads for each vehicle."
   ]
  },
  {
   "cell_type": "code",
   "execution_count": 3,
   "id": "dbbb1c9f-c10d-4b1f-bd13-aa66d58c857a",
   "metadata": {},
   "outputs": [
    {
     "name": "stdout",
     "output_type": "stream",
     "text": [
      "[45903.53222154, 61330.46341905, 33698.61705735, 41529.33956871]\n",
      "[413131.78999386006, 551974.17077145, 303287.55351615004, 373764.05611839006]\n",
      "[861966.32727114, 1151649.8130910501, 632785.14252135, 779828.70967911]\n"
     ]
    }
   ],
   "source": [
    "kinetic_school = []\n",
    "\n",
    "kinetic_school.append(0.5 * mass_of_Kia * school_zone**2)\n",
    "kinetic_school.append(0.5 * mass_of_Ford * school_zone**2)\n",
    "kinetic_school.append(0.5 * mass_of_Fiat * school_zone**2)\n",
    "kinetic_school.append(0.5 * mass_of_Dodge * school_zone**2)\n",
    "\n",
    "kinetic_town = []\n",
    "\n",
    "kinetic_town.append(0.5 * mass_of_Kia * town_road**2)\n",
    "kinetic_town.append(0.5 * mass_of_Ford * town_road**2)\n",
    "kinetic_town.append(0.5 * mass_of_Fiat * town_road**2)\n",
    "kinetic_town.append(0.5 * mass_of_Dodge * town_road**2)\n",
    "\n",
    "kinetic_highway = []\n",
    "\n",
    "kinetic_highway.append(0.5 * mass_of_Kia * highway**2)\n",
    "kinetic_highway.append(0.5 * mass_of_Ford * highway**2)\n",
    "kinetic_highway.append(0.5 * mass_of_Fiat * highway**2)\n",
    "kinetic_highway.append(0.5 * mass_of_Dodge * highway**2)\n",
    "\n",
    "print(f\"{kinetic_school}\")\n",
    "print(f\"{kinetic_town}\")\n",
    "print(f\"{kinetic_highway}\")"
   ]
  },
  {
   "cell_type": "markdown",
   "id": "d55eeda0-c1de-4525-9344-8c50f2e6f799",
   "metadata": {},
   "source": [
    "#### Now that the calculation is finished for kinetic energy, now we'll put this data in a table with the vehicles on one axis and the different roads in a different axis"
   ]
  },
  {
   "cell_type": "code",
   "execution_count": 9,
   "id": "11addce8-4952-4083-b095-f2e991111b88",
   "metadata": {},
   "outputs": [
    {
     "name": "stdout",
     "output_type": "stream",
     "text": [
      "                 ------------------Cars-------------------------------------\n",
      "Different\n",
      "Speeds\n",
      "                    Kia             Ford            Fiat            Dodge\n",
      "School Zone        45,903.53       61,330.46     33,698.62       41,529.34\n",
      "Town Road         413,131.79      551,974.17    303,287.55      373,764.06\n",
      "Highway           861,966.33    1,151,649.81    632,785.14      779,828.71\n"
     ]
    }
   ],
   "source": [
    "print(f\"                 ------------------Cars-------------------------------------\")\n",
    "print(f\"Different\")\n",
    "print(f\"Speeds\")\n",
    "print(f\"                    Kia             Ford            Fiat            Dodge\")\n",
    "print(f\"School Zone       {kinetic_school[0]:10,.2f}      {kinetic_school[1]:10,.2f}    {kinetic_school[2]:10,.2f}      {kinetic_school[3]:10,.2f}\")\n",
    "print(f\"Town Road         {kinetic_town[0]:10,.2f}      {kinetic_town[1]:10,.2f}    {kinetic_town[2]:10,.2f}      {kinetic_town[3]:10,.2f}\")\n",
    "print(f\"Highway           {kinetic_highway[0]:10,.2f}    {kinetic_highway[1]:10,.2f}    {kinetic_highway[2]:10,.2f}      {kinetic_highway[3]:10,.2f}\")"
   ]
  },
  {
   "cell_type": "code",
   "execution_count": null,
   "id": "ee3009f6-bc7b-4b88-a0ee-2c61ecee073c",
   "metadata": {},
   "outputs": [],
   "source": []
  }
 ],
 "metadata": {
  "kernelspec": {
   "display_name": "Python 3 (ipykernel)",
   "language": "python",
   "name": "python3"
  },
  "language_info": {
   "codemirror_mode": {
    "name": "ipython",
    "version": 3
   },
   "file_extension": ".py",
   "mimetype": "text/x-python",
   "name": "python",
   "nbconvert_exporter": "python",
   "pygments_lexer": "ipython3",
   "version": "3.8.16"
  }
 },
 "nbformat": 4,
 "nbformat_minor": 5
}

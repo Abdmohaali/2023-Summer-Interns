{
 "cells": [
  {
   "cell_type": "markdown",
   "id": "e683ecda-d344-4bb4-8fb8-2de02169b5ff",
   "metadata": {},
   "source": [
    "# Kinetic Energy"
   ]
  },
  {
   "cell_type": "markdown",
   "id": "ec4c0c63-22d2-4a7d-82a9-7b2328232274",
   "metadata": {},
   "source": [
    "In this experiment we will explore the concept of [kinetic energy](https://en.wikipedia.org/wiki/Kinetic_energy). This is a form of energy due to its motion. "
   ]
  },
  {
   "cell_type": "markdown",
   "id": "f6d2d2ec-eef8-45df-a377-2d4efa89282b",
   "metadata": {},
   "source": [
    "## **Algorithm**"
   ]
  },
  {
   "cell_type": "markdown",
   "id": "635daf25-6e59-4740-9a93-1a7b0d56fde1",
   "metadata": {},
   "source": [
    "1. Convert the mass of the four vehicles from pounds to kilograms by using the equation given.\n",
    "2. Convert the various speeds from miles per hour to meters per second by using the equation given.\n",
    "3. Utilizing the numbers we found using he conversions we plug them into the kinetic energy formula and get the desired output.\n",
    "4. Now with the data we must now make a table to display the data we got.\n",
    "5. Make a summary of what you learned."
   ]
  },
  {
   "cell_type": "markdown",
   "id": "41069937-3c4b-4624-ba0f-b616359e13c4",
   "metadata": {},
   "source": [
    "## **Program**"
   ]
  },
  {
   "cell_type": "markdown",
   "id": "f8827be2-ddb5-4283-881c-46301894d7c3",
   "metadata": {},
   "source": [
    "**1.** Convert the mass of the four vehicles from pounds to kilograms by using the equation given."
   ]
  },
  {
   "cell_type": "code",
   "execution_count": 1,
   "id": "fb69add9-eef0-48ee-9b70-61f77c92aa9b",
   "metadata": {},
   "outputs": [
    {
     "name": "stdout",
     "output_type": "stream",
     "text": [
      "The mass of a Kia EV6 is 2042.1072 kg\n",
      "The mass of a Ford F-150 Lightning is 2728.404 kg\n",
      "The mass of a Fiat 500 Pop X AWD is 1499.148 kg\n",
      "The mass of a Dodge Charger GT RWD is 1847.5128 kg\n"
     ]
    }
   ],
   "source": [
    "mass_of_Kia = 4502 * .4536\n",
    "mass_of_Ford = 6015 * .4536\n",
    "mass_of_Fiat = 3305 * .4536\n",
    "mass_of_Dodge = 4073 * .4536\n",
    "\n",
    "print(f\"The mass of a Kia EV6 is {mass_of_Kia} kg\")\n",
    "print(f\"The mass of a Ford F-150 Lightning is {mass_of_Ford} kg\")\n",
    "print(f\"The mass of a Fiat 500 Pop X AWD is {mass_of_Fiat} kg\")\n",
    "print(f\"The mass of a Dodge Charger GT RWD is {mass_of_Dodge} kg\")"
   ]
  },
  {
   "cell_type": "markdown",
   "id": "accb91dc-8574-41e8-8ce9-36165366906c",
   "metadata": {},
   "source": [
    "**2.** Convert the various speeds from miles per hour to meters per second by using the equation given."
   ]
  },
  {
   "cell_type": "code",
   "execution_count": 2,
   "id": "8cd7e9da-02e2-42c5-a2fb-4d37b38d4c61",
   "metadata": {},
   "outputs": [
    {
     "name": "stdout",
     "output_type": "stream",
     "text": [
      "The velocity of a school zone is 6.705 m/s\n",
      "The velocity of a town road is 20.115000000000002 m/s\n",
      "The velocity of a highway is 29.055 m/s\n"
     ]
    }
   ],
   "source": [
    "school_zone = 15 * .4470\n",
    "town_road = 45 * .4470\n",
    "highway = 65 * .4470\n",
    "\n",
    "print(f\"The velocity of a school zone is {school_zone} m/s\")\n",
    "print(f\"The velocity of a town road is {town_road} m/s\")\n",
    "print(f\"The velocity of a highway is {highway} m/s\")"
   ]
  },
  {
   "cell_type": "markdown",
   "id": "bde33fdb-e8b6-4e57-abfd-251df4892a52",
   "metadata": {},
   "source": [
    "**3.** Utilizing the numbers we found using he conversions we plug them into the kinetic energy formula and get the desired output."
   ]
  },
  {
   "cell_type": "code",
   "execution_count": 3,
   "id": "dbbb1c9f-c10d-4b1f-bd13-aa66d58c857a",
   "metadata": {},
   "outputs": [
    {
     "name": "stdout",
     "output_type": "stream",
     "text": [
      "[45903.53222154, 61330.46341905, 33698.61705735, 41529.33956871]\n",
      "[413131.78999386006, 551974.17077145, 303287.55351615004, 373764.05611839006]\n",
      "[861966.32727114, 1151649.8130910501, 632785.14252135, 779828.70967911]\n"
     ]
    }
   ],
   "source": [
    "kinetic_school = []\n",
    "\n",
    "kinetic_school.append(0.5 * mass_of_Kia * school_zone**2)\n",
    "kinetic_school.append(0.5 * mass_of_Ford * school_zone**2)\n",
    "kinetic_school.append(0.5 * mass_of_Fiat * school_zone**2)\n",
    "kinetic_school.append(0.5 * mass_of_Dodge * school_zone**2)\n",
    "\n",
    "kinetic_town = []\n",
    "\n",
    "kinetic_town.append(0.5 * mass_of_Kia * town_road**2)\n",
    "kinetic_town.append(0.5 * mass_of_Ford * town_road**2)\n",
    "kinetic_town.append(0.5 * mass_of_Fiat * town_road**2)\n",
    "kinetic_town.append(0.5 * mass_of_Dodge * town_road**2)\n",
    "\n",
    "kinetic_highway = []\n",
    "\n",
    "kinetic_highway.append(0.5 * mass_of_Kia * highway**2)\n",
    "kinetic_highway.append(0.5 * mass_of_Ford * highway**2)\n",
    "kinetic_highway.append(0.5 * mass_of_Fiat * highway**2)\n",
    "kinetic_highway.append(0.5 * mass_of_Dodge * highway**2)\n",
    "\n",
    "print(f\"{kinetic_school}\")\n",
    "print(f\"{kinetic_town}\")\n",
    "print(f\"{kinetic_highway}\")"
   ]
  },
  {
   "cell_type": "markdown",
   "id": "c83a3b6e-1f86-4c57-b7e7-795e18132812",
   "metadata": {},
   "source": [
    "**4.** Now with the data we must now make a table to display the data we got."
   ]
  },
  {
   "cell_type": "code",
   "execution_count": 4,
   "id": "11addce8-4952-4083-b095-f2e991111b88",
   "metadata": {},
   "outputs": [
    {
     "name": "stdout",
     "output_type": "stream",
     "text": [
      "                 ------------------Cars-------------------------------------\n",
      "Different\n",
      "Speeds\n",
      "                    Kia             Ford            Fiat            Dodge\n",
      "School Zone        45,903.53       61,330.46     33,698.62       41,529.34\n",
      "Town Road         413,131.79      551,974.17    303,287.55      373,764.06\n",
      "Highway           861,966.33    1,151,649.81    632,785.14      779,828.71\n"
     ]
    }
   ],
   "source": [
    "print(f\"                 ------------------Cars-------------------------------------\")\n",
    "print(f\"Different\")\n",
    "print(f\"Speeds\")\n",
    "print(f\"                    Kia             Ford            Fiat            Dodge\")\n",
    "print(f\"School Zone       {kinetic_school[0]:10,.2f}      {kinetic_school[1]:10,.2f}    {kinetic_school[2]:10,.2f}      {kinetic_school[3]:10,.2f}\")\n",
    "print(f\"Town Road         {kinetic_town[0]:10,.2f}      {kinetic_town[1]:10,.2f}    {kinetic_town[2]:10,.2f}      {kinetic_town[3]:10,.2f}\")\n",
    "print(f\"Highway           {kinetic_highway[0]:10,.2f}    {kinetic_highway[1]:10,.2f}    {kinetic_highway[2]:10,.2f}      {kinetic_highway[3]:10,.2f}\")"
   ]
  },
  {
   "cell_type": "markdown",
   "id": "0acd2f6e-c973-4b1a-a524-59eb88eab6ab",
   "metadata": {},
   "source": [
    "**5.** Now we talk about what we learned in a Summary"
   ]
  },
  {
   "cell_type": "markdown",
   "id": "1b7b8fef-aa66-440b-8b91-4ed09fe614e6",
   "metadata": {},
   "source": [
    "## **Summary**"
   ]
  },
  {
   "cell_type": "markdown",
   "id": "f445c0b4-a62f-4017-a6e7-5894d08162c3",
   "metadata": {},
   "source": [
    "1. Well compared to what I know now I learned how to format the markdown to make the lab look more readable.\n",
    "2. I also learned that you can isolate a list to their individual elements by remembering they are numbered 0, 1, 2, and so on.\n",
    "3. Although hardcoding can be tedious it gets the job done."
   ]
  },
  {
   "cell_type": "code",
   "execution_count": null,
   "id": "655ffeee-39f3-4bc8-9632-d20ed2223b57",
   "metadata": {},
   "outputs": [],
   "source": []
  }
 ],
 "metadata": {
  "kernelspec": {
   "display_name": "Python 3 (ipykernel)",
   "language": "python",
   "name": "python3"
  },
  "language_info": {
   "codemirror_mode": {
    "name": "ipython",
    "version": 3
   },
   "file_extension": ".py",
   "mimetype": "text/x-python",
   "name": "python",
   "nbconvert_exporter": "python",
   "pygments_lexer": "ipython3",
   "version": "3.8.16"
  }
 },
 "nbformat": 4,
 "nbformat_minor": 5
}

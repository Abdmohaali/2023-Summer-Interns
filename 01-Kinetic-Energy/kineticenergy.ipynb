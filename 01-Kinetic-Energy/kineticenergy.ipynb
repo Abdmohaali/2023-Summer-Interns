{
 "cells": [
  {
   "cell_type": "code",
   "execution_count": 2,
   "id": "fb69add9-eef0-48ee-9b70-61f77c92aa9b",
   "metadata": {},
   "outputs": [
    {
     "name": "stdout",
     "output_type": "stream",
     "text": [
      "The mass of a Kia EV6 is 9925.044091710759 kg\n",
      "The mass of a Ford F-150 Lightning is 13260.582010582011 kg\n",
      "The mass of a Fiat 500 Pop X AWD is 7286.155202821869 kg\n",
      "The mass of a Dodge Charger GT RWD is 8979.276895943563 kg\n"
     ]
    }
   ],
   "source": [
    "mass_of_Kia = 4502 / .4536\n",
    "mass_of_Ford = 6015 / .4536\n",
    "mass_of_Fiat = 3305 / .4536\n",
    "mass_of_Dodge = 4073 / .4536\n",
    "\n",
    "print(f\"The mass of a Kia EV6 is {mass_of_Kia} kg\")\n",
    "print(f\"The mass of a Ford F-150 Lightning is {mass_of_Ford} kg\")\n",
    "print(f\"The mass of a Fiat 500 Pop X AWD is {mass_of_Fiat} kg\")\n",
    "print(f\"The mass of a Dodge Charger GT RWD is {mass_of_Dodge} kg\")"
   ]
  },
  {
   "cell_type": "markdown",
   "id": "600c6e3d-cf2c-418d-8f2f-bee4b2d05d0d",
   "metadata": {},
   "source": [
    "### The mass of each vehicle has been deduced and shown"
   ]
  },
  {
   "cell_type": "markdown",
   "id": "82f91944-c63f-43e6-890f-97dc24d047b1",
   "metadata": {},
   "source": [
    "#### Now we are going to convert the different speeds from miles per hour to meters per second"
   ]
  },
  {
   "cell_type": "code",
   "execution_count": 4,
   "id": "8cd7e9da-02e2-42c5-a2fb-4d37b38d4c61",
   "metadata": {},
   "outputs": [
    {
     "name": "stdout",
     "output_type": "stream",
     "text": [
      "The velocity of a school zone is 33.557046979865774 m/s\n",
      "The velocity of a town road is 100.67114093959731 m/s\n",
      "The velocity of a highway is 145.413870246085 m/s\n"
     ]
    }
   ],
   "source": [
    "school_zone = 15 / .4470\n",
    "town_road = 45 / .4470\n",
    "highway = 65 / .4470\n",
    "\n",
    "print(f\"The velocity of a school zone is {school_zone} m/s\")\n",
    "print(f\"The velocity of a town road is {town_road} m/s\")\n",
    "print(f\"The velocity of a highway is {highway} m/s\")"
   ]
  },
  {
   "cell_type": "markdown",
   "id": "1ec86a25-2ee4-4eea-901e-3363057ad835",
   "metadata": {},
   "source": [
    "#### Since we have all the information we need for finding kinetic energy, we now need to use the velocities of the different roads for each vehicle."
   ]
  },
  {
   "cell_type": "code",
   "execution_count": 7,
   "id": "dbbb1c9f-c10d-4b1f-bd13-aa66d58c857a",
   "metadata": {},
   "outputs": [
    {
     "name": "stdout",
     "output_type": "stream",
     "text": [
      "[5588174.007764718, 7466207.609219187, 4102380.0745585053, 5055671.420174521]\n",
      "[50293566.069882445, 67195868.48297265, 36921420.671026535, 45501042.78157068]\n",
      "[104933489.70135966, 140198787.32867134, 77033581.40004301, 94934274.44549932]\n"
     ]
    }
   ],
   "source": [
    "kinetic_school = []\n",
    "\n",
    "kinetic_school.append(0.5 * mass_of_Kia * school_zone**2)\n",
    "kinetic_school.append(0.5 * mass_of_Ford * school_zone**2)\n",
    "kinetic_school.append(0.5 * mass_of_Fiat * school_zone**2)\n",
    "kinetic_school.append(0.5 * mass_of_Dodge * school_zone**2)\n",
    "\n",
    "print(kinetic_school)\n",
    "\n",
    "kinetic_town = []\n",
    "\n",
    "kinetic_town.append(0.5 * mass_of_Kia * town_road**2)\n",
    "kinetic_town.append(0.5 * mass_of_Ford * town_road**2)\n",
    "kinetic_town.append(0.5 * mass_of_Fiat * town_road**2)\n",
    "kinetic_town.append(0.5 * mass_of_Dodge * town_road**2)\n",
    "\n",
    "print(kinetic_town)\n",
    "\n",
    "kinetic_highway = []\n",
    "\n",
    "kinetic_highway.append(0.5 * mass_of_Kia * highway**2)\n",
    "kinetic_highway.append(0.5 * mass_of_Ford * highway**2)\n",
    "kinetic_highway.append(0.5 * mass_of_Fiat * highway**2)\n",
    "kinetic_highway.append(0.5 * mass_of_Dodge * highway**2)\n",
    "\n",
    "print(kinetic_highway)"
   ]
  },
  {
   "cell_type": "code",
   "execution_count": null,
   "id": "14240dc9-5f57-4185-a42f-78f5276e1bb7",
   "metadata": {},
   "outputs": [],
   "source": []
  }
 ],
 "metadata": {
  "kernelspec": {
   "display_name": "Python 3 (ipykernel)",
   "language": "python",
   "name": "python3"
  },
  "language_info": {
   "codemirror_mode": {
    "name": "ipython",
    "version": 3
   },
   "file_extension": ".py",
   "mimetype": "text/x-python",
   "name": "python",
   "nbconvert_exporter": "python",
   "pygments_lexer": "ipython3",
   "version": "3.8.16"
  }
 },
 "nbformat": 4,
 "nbformat_minor": 5
}
